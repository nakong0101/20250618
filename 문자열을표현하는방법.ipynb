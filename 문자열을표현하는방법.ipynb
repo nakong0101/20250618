{
 "cells": [
  {
   "cell_type": "code",
   "execution_count": null,
   "id": "e41e2dc6",
   "metadata": {},
   "outputs": [],
   "source": [
    "문자열을 표현하는 방법"
   ]
  },
  {
   "cell_type": "code",
   "execution_count": null,
   "id": "95ffd29d",
   "metadata": {},
   "outputs": [],
   "source": [
    "한줄로 표현할때\n",
    "\"Hello World\"\n",
    "'Python is fun'\n",
    "\n",
    "여러줄로 표현할때 (줄바꿈가능)\n",
    "\"\"\"Life is too short, You need python\"\"\"\n",
    "'''Life is \n",
    "too short, You need\n",
    "python'''"
   ]
  },
  {
   "cell_type": "code",
   "execution_count": 1,
   "id": "807b4b92",
   "metadata": {},
   "outputs": [
    {
     "name": "stdout",
     "output_type": "stream",
     "text": [
      "Hello World Python is fun Life is \n",
      "too short, You need python Life is \n",
      "too short, You need\n",
      "python\n"
     ]
    }
   ],
   "source": [
    "a = \"Hello World\"\n",
    "b = 'Python is fun'\n",
    "c = \"\"\"Life is \n",
    "too short, You need python\"\"\"\n",
    "d = '''Life is \n",
    "too short, You need\n",
    "python'''\n",
    "print (a, b, c, d)"
   ]
  },
  {
   "cell_type": "code",
   "execution_count": 2,
   "id": "6af5b758",
   "metadata": {},
   "outputs": [
    {
     "name": "stdout",
     "output_type": "stream",
     "text": [
      "\"python\"is fun\n"
     ]
    }
   ],
   "source": [
    "a = '\"python\"is fun'\n",
    "print (a)"
   ]
  },
  {
   "cell_type": "code",
   "execution_count": 3,
   "id": "abf0e9d1",
   "metadata": {},
   "outputs": [
    {
     "name": "stdout",
     "output_type": "stream",
     "text": [
      "100\n"
     ]
    }
   ],
   "source": [
    "'''\n",
    "1. a 변수에 정수의 값을 넣기\n",
    "2. a 변수를 콘솔에 값을 출력하기\n",
    "'''\n",
    "a = 100\n",
    "print (a)"
   ]
  },
  {
   "cell_type": "code",
   "execution_count": 5,
   "id": "d37eaa30",
   "metadata": {},
   "outputs": [
    {
     "name": "stdout",
     "output_type": "stream",
     "text": [
      "Life is too short \n",
      " You need \t python\n"
     ]
    }
   ],
   "source": [
    "a = 'Life is too short \\n You need \\t python'\n",
    "print (a)"
   ]
  },
  {
   "cell_type": "code",
   "execution_count": 6,
   "id": "dc96c706",
   "metadata": {},
   "outputs": [
    {
     "name": "stdout",
     "output_type": "stream",
     "text": [
      "Life is too short you need python \n",
      "Life is too short you need python \n",
      "Life is too short you need python \n",
      "\n"
     ]
    }
   ],
   "source": [
    "a = 'Life is too short you need python \\n'\n",
    "print (a * 3)"
   ]
  },
  {
   "cell_type": "code",
   "execution_count": null,
   "id": "6fcf57e7",
   "metadata": {},
   "outputs": [
    {
     "name": "stdout",
     "output_type": "stream",
     "text": [
      "Life is too short you need python\n",
      "Life is too short you need python\n",
      "Life is too short you need python\n",
      "\n"
     ]
    }
   ],
   "source": [
    "a = 'Life is too short you need python'\n",
    "print ( (a + '\\n') * 3)"
   ]
  },
  {
   "cell_type": "code",
   "execution_count": 9,
   "id": "f8df2a8d",
   "metadata": {},
   "outputs": [
    {
     "name": "stdout",
     "output_type": "stream",
     "text": [
      "t\n"
     ]
    }
   ],
   "source": [
    "a = \"Life is too short, you need Python\"\n",
    "print (a[8])"
   ]
  },
  {
   "cell_type": "code",
   "execution_count": 11,
   "id": "dc0e9357",
   "metadata": {},
   "outputs": [
    {
     "name": "stdout",
     "output_type": "stream",
     "text": [
      "too\n"
     ]
    }
   ],
   "source": [
    "a = \"Life is too short, you need Python\"\n",
    "print (a[8]+a[9]+a[10])"
   ]
  },
  {
   "cell_type": "code",
   "execution_count": 13,
   "id": "12bbdd67",
   "metadata": {},
   "outputs": [
    {
     "name": "stdout",
     "output_type": "stream",
     "text": [
      "too\n"
     ]
    }
   ],
   "source": [
    "a = \"Life is too short, you need Python\"\n",
    "print(a[8:11])"
   ]
  },
  {
   "cell_type": "code",
   "execution_count": 15,
   "id": "4fd284c3",
   "metadata": {},
   "outputs": [
    {
     "name": "stdout",
     "output_type": "stream",
     "text": [
      "n\n"
     ]
    }
   ],
   "source": [
    "a = \"Life is too short, you need Python\"\n",
    "print(a[-1])"
   ]
  },
  {
   "cell_type": "code",
   "execution_count": 28,
   "id": "09811975",
   "metadata": {},
   "outputs": [
    {
     "name": "stdout",
     "output_type": "stream",
     "text": [
      "Python\n"
     ]
    }
   ],
   "source": [
    "a = \"Life is too short, you need Python\"\n",
    "print(a[-6:])"
   ]
  },
  {
   "cell_type": "code",
   "execution_count": 29,
   "id": "013db810",
   "metadata": {},
   "outputs": [
    {
     "name": "stdout",
     "output_type": "stream",
     "text": [
      "L\n"
     ]
    }
   ],
   "source": [
    "a = \"Life is too short, you need Python\"\n",
    "print(a[0])"
   ]
  },
  {
   "cell_type": "code",
   "execution_count": 30,
   "id": "4b92e6d1",
   "metadata": {},
   "outputs": [
    {
     "name": "stdout",
     "output_type": "stream",
     "text": [
      "Life\n"
     ]
    }
   ],
   "source": [
    "a = \"Life is too short, you need Python\"\n",
    "print(a[:4])"
   ]
  },
  {
   "cell_type": "code",
   "execution_count": 31,
   "id": "981f25b4",
   "metadata": {},
   "outputs": [
    {
     "name": "stdout",
     "output_type": "stream",
     "text": [
      "34\n"
     ]
    }
   ],
   "source": [
    "a = \"Life is too short, you need Python\"\n",
    "print(len(a))"
   ]
  }
 ],
 "metadata": {
  "kernelspec": {
   "display_name": "Python 3",
   "language": "python",
   "name": "python3"
  },
  "language_info": {
   "codemirror_mode": {
    "name": "ipython",
    "version": 3
   },
   "file_extension": ".py",
   "mimetype": "text/x-python",
   "name": "python",
   "nbconvert_exporter": "python",
   "pygments_lexer": "ipython3",
   "version": "3.13.5"
  }
 },
 "nbformat": 4,
 "nbformat_minor": 5
}
